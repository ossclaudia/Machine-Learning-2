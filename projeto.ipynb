{
 "cells": [
  {
   "cell_type": "markdown",
   "id": "b3e19871",
   "metadata": {},
   "source": [
    "# Machine Learning: Assignment #2\n",
    "\n",
    "Bárbara Nóbrega Galiza – 202408654​\n",
    "\n",
    "Cláudia Oliveira - 202005668​\n",
    "\n",
    "Marta Campos - 202008344"
   ]
  },
  {
   "cell_type": "code",
   "execution_count": 1,
   "id": "5228bb32",
   "metadata": {},
   "outputs": [],
   "source": [
    "import pandas as pd\n",
    "import matplotlib.pyplot as plt"
   ]
  },
  {
   "cell_type": "code",
   "execution_count": 18,
   "id": "cc077f4e",
   "metadata": {},
   "outputs": [
    {
     "name": "stdout",
     "output_type": "stream",
     "text": [
      "   ICD9_CODE  count               SHORT_TITLE\n",
      "0       4019  20703          Hypertension NOS\n",
      "1       4280  13111                   CHF NOS\n",
      "2      42731  12891       Atrial fibrillation\n",
      "3      41401  12429  Crnry athrscl natve vssl\n",
      "4       5849   9119  Acute kidney failure NOS\n",
      "5      25000   9058  DMII wo cmp nt st uncntr\n",
      "6       2724   8690    Hyperlipidemia NEC/NOS\n",
      "7      51881   7497  Acute respiratry failure\n",
      "8       5990   6555  Urin tract infection NOS\n",
      "9      53081   6326         Esophageal reflux\n",
      "10      2720   5930   Pure hypercholesterolem\n",
      "11      V053   5779  Need prphyl vc vrl hepat\n",
      "12      V290   5519    NB obsrv suspct infect\n",
      "13      2859   5406                Anemia NOS\n",
      "14      2449   4917        Hypothyroidism NOS\n"
     ]
    }
   ],
   "source": [
    "# Diagnoses\n",
    "diag = pd.read_csv('tables/DIAGNOSES_ICD.csv')\n",
    "\n",
    "# Diagnoses and their descriptions\n",
    "desc = pd.read_csv('tables/D_ICD_DIAGNOSES.csv')\n",
    "\n",
    "top_codes = diag['ICD9_CODE'].value_counts().head(15).reset_index()\n",
    "top_codes.columns = ['ICD9_CODE', 'count']\n",
    "\n",
    "top_diseases = top_codes.merge(desc[['ICD9_CODE', 'SHORT_TITLE']], on='ICD9_CODE', how='left')\n",
    "\n",
    "print(top_diseases)"
   ]
  },
  {
   "cell_type": "markdown",
   "id": "c10c735f",
   "metadata": {},
   "source": [
    "Load chartevents filtering by admissions with the disease chosen"
   ]
  },
  {
   "cell_type": "code",
   "execution_count": null,
   "id": "dbfb4178",
   "metadata": {},
   "outputs": [],
   "source": [
    "# Congestive heart failure\n",
    "#d = diag[diag['ICD9_CODE'] == \"4280\"]\n",
    "# All types of heart failure\n",
    "diag['ICD9_CODE'] = diag['ICD9_CODE'].astype(str)\n",
    "d = diag[diag['ICD9_CODE'].str.startswith('428')]\n",
    "\n",
    "diagnoses_disease = d[d['SEQ_NUM'] == 1.0].copy()\n",
    "hadm_ids = diagnoses_disease['HADM_ID'].unique()\n",
    "\n",
    "chunksize = 100000 \n",
    "filtered_chunks = []\n",
    "\n",
    "for chunk in pd.read_csv('tables/CHARTEVENTS.csv', chunksize=chunksize, low_memory=False):\n",
    "    chunk = chunk[chunk['HADM_ID'].isin(hadm_ids)]\n",
    "    filtered_chunks.append(chunk)\n",
    "\n",
    "chartevents_filtered = pd.concat(filtered_chunks)"
   ]
  },
  {
   "cell_type": "code",
   "execution_count": 3,
   "id": "c62c1161",
   "metadata": {},
   "outputs": [
    {
     "name": "stdout",
     "output_type": "stream",
     "text": [
      "1488\n"
     ]
    },
    {
     "data": {
      "text/plain": [
       "986502"
      ]
     },
     "execution_count": 3,
     "metadata": {},
     "output_type": "execute_result"
    }
   ],
   "source": [
    "print(len(diagnoses_disease))\n",
    "len(chartevents_filtered)"
   ]
  },
  {
   "cell_type": "markdown",
   "id": "86ff2402",
   "metadata": {},
   "source": [
    "### Data Preprocessing"
   ]
  },
  {
   "cell_type": "markdown",
   "id": "73df1b8f",
   "metadata": {},
   "source": [
    "Loading more datasets"
   ]
  },
  {
   "cell_type": "code",
   "execution_count": null,
   "id": "38643ab2",
   "metadata": {},
   "outputs": [],
   "source": [
    "# Patient demographic information\n",
    "patients = pd.read_csv('tables/PATIENTS.csv')\n",
    "\n",
    "# Hospital admissions \n",
    "admissions = pd.read_csv('tables/ADMISSIONS.csv')\n",
    "\n",
    "# ICU stays per patient admission\n",
    "icustays = pd.read_csv('tables/ICUSTAYS.csv')\n",
    "\n",
    "# Charted events: vital signs, lab results, nurse observations, etc.\n",
    "#chartevents = pd.read_csv('tables/chart_4280.csv', low_memory=False)\n",
    "#chartevents = pd.read_csv('tables/CHARTEVENTS.csv', low_memory=False)\n",
    "\n",
    "# Dictionary that maps ITEMIDs to their names/descriptions\n",
    "items = pd.read_csv('tables/D_ITEMS.csv')\n",
    "\n",
    "inputevents = pd.read_csv('tables/INPUTEVENTS_MV.csv')"
   ]
  },
  {
   "cell_type": "markdown",
   "id": "7b18c456",
   "metadata": {},
   "source": [
    "Adding comordibities. TODO: check for comorbidities that have code suffix 428 to not add them ?"
   ]
  },
  {
   "cell_type": "code",
   "execution_count": 5,
   "id": "7097f53c",
   "metadata": {},
   "outputs": [
    {
     "data": {
      "text/html": [
       "<div>\n",
       "<style scoped>\n",
       "    .dataframe tbody tr th:only-of-type {\n",
       "        vertical-align: middle;\n",
       "    }\n",
       "\n",
       "    .dataframe tbody tr th {\n",
       "        vertical-align: top;\n",
       "    }\n",
       "\n",
       "    .dataframe thead th {\n",
       "        text-align: right;\n",
       "    }\n",
       "</style>\n",
       "<table border=\"1\" class=\"dataframe\">\n",
       "  <thead>\n",
       "    <tr style=\"text-align: right;\">\n",
       "      <th></th>\n",
       "      <th>ROW_ID</th>\n",
       "      <th>SUBJECT_ID</th>\n",
       "      <th>HADM_ID</th>\n",
       "      <th>SEQ_NUM</th>\n",
       "      <th>ICD9_CODE</th>\n",
       "      <th>comorbidity1</th>\n",
       "      <th>comorbidity2</th>\n",
       "    </tr>\n",
       "  </thead>\n",
       "  <tbody>\n",
       "    <tr>\n",
       "      <th>0</th>\n",
       "      <td>2154</td>\n",
       "      <td>175</td>\n",
       "      <td>176764</td>\n",
       "      <td>1.0</td>\n",
       "      <td>42831</td>\n",
       "      <td>51881</td>\n",
       "      <td>5070</td>\n",
       "    </tr>\n",
       "    <tr>\n",
       "      <th>1</th>\n",
       "      <td>2163</td>\n",
       "      <td>176</td>\n",
       "      <td>135828</td>\n",
       "      <td>1.0</td>\n",
       "      <td>4280</td>\n",
       "      <td>42731</td>\n",
       "      <td>4251</td>\n",
       "    </tr>\n",
       "    <tr>\n",
       "      <th>2</th>\n",
       "      <td>2172</td>\n",
       "      <td>177</td>\n",
       "      <td>143120</td>\n",
       "      <td>1.0</td>\n",
       "      <td>4280</td>\n",
       "      <td>51881</td>\n",
       "      <td>5119</td>\n",
       "    </tr>\n",
       "    <tr>\n",
       "      <th>3</th>\n",
       "      <td>2460</td>\n",
       "      <td>199</td>\n",
       "      <td>185360</td>\n",
       "      <td>1.0</td>\n",
       "      <td>4280</td>\n",
       "      <td>4254</td>\n",
       "      <td>4240</td>\n",
       "    </tr>\n",
       "    <tr>\n",
       "      <th>4</th>\n",
       "      <td>3596</td>\n",
       "      <td>305</td>\n",
       "      <td>122211</td>\n",
       "      <td>1.0</td>\n",
       "      <td>42820</td>\n",
       "      <td>99859</td>\n",
       "      <td>5070</td>\n",
       "    </tr>\n",
       "    <tr>\n",
       "      <th>5</th>\n",
       "      <td>2056</td>\n",
       "      <td>165</td>\n",
       "      <td>170252</td>\n",
       "      <td>1.0</td>\n",
       "      <td>42823</td>\n",
       "      <td>51881</td>\n",
       "      <td>49121</td>\n",
       "    </tr>\n",
       "    <tr>\n",
       "      <th>6</th>\n",
       "      <td>2516</td>\n",
       "      <td>205</td>\n",
       "      <td>135671</td>\n",
       "      <td>1.0</td>\n",
       "      <td>4280</td>\n",
       "      <td>4240</td>\n",
       "      <td>5990</td>\n",
       "    </tr>\n",
       "    <tr>\n",
       "      <th>7</th>\n",
       "      <td>4092</td>\n",
       "      <td>351</td>\n",
       "      <td>174800</td>\n",
       "      <td>1.0</td>\n",
       "      <td>4280</td>\n",
       "      <td>78057</td>\n",
       "      <td>6110</td>\n",
       "    </tr>\n",
       "    <tr>\n",
       "      <th>8</th>\n",
       "      <td>3775</td>\n",
       "      <td>323</td>\n",
       "      <td>106158</td>\n",
       "      <td>1.0</td>\n",
       "      <td>4280</td>\n",
       "      <td>99672</td>\n",
       "      <td>99762</td>\n",
       "    </tr>\n",
       "    <tr>\n",
       "      <th>9</th>\n",
       "      <td>3784</td>\n",
       "      <td>323</td>\n",
       "      <td>128132</td>\n",
       "      <td>1.0</td>\n",
       "      <td>4280</td>\n",
       "      <td>78551</td>\n",
       "      <td>51881</td>\n",
       "    </tr>\n",
       "    <tr>\n",
       "      <th>10</th>\n",
       "      <td>5001</td>\n",
       "      <td>414</td>\n",
       "      <td>153627</td>\n",
       "      <td>1.0</td>\n",
       "      <td>4280</td>\n",
       "      <td>5119</td>\n",
       "      <td>42731</td>\n",
       "    </tr>\n",
       "    <tr>\n",
       "      <th>11</th>\n",
       "      <td>5078</td>\n",
       "      <td>422</td>\n",
       "      <td>117029</td>\n",
       "      <td>1.0</td>\n",
       "      <td>42833</td>\n",
       "      <td>51881</td>\n",
       "      <td>2762</td>\n",
       "    </tr>\n",
       "    <tr>\n",
       "      <th>12</th>\n",
       "      <td>5792</td>\n",
       "      <td>491</td>\n",
       "      <td>157083</td>\n",
       "      <td>1.0</td>\n",
       "      <td>42831</td>\n",
       "      <td>99602</td>\n",
       "      <td>9971</td>\n",
       "    </tr>\n",
       "    <tr>\n",
       "      <th>13</th>\n",
       "      <td>5839</td>\n",
       "      <td>495</td>\n",
       "      <td>186199</td>\n",
       "      <td>1.0</td>\n",
       "      <td>4280</td>\n",
       "      <td>5845</td>\n",
       "      <td>7895</td>\n",
       "    </tr>\n",
       "    <tr>\n",
       "      <th>14</th>\n",
       "      <td>7546</td>\n",
       "      <td>653</td>\n",
       "      <td>155866</td>\n",
       "      <td>1.0</td>\n",
       "      <td>42831</td>\n",
       "      <td>42731</td>\n",
       "      <td>5990</td>\n",
       "    </tr>\n",
       "  </tbody>\n",
       "</table>\n",
       "</div>"
      ],
      "text/plain": [
       "    ROW_ID  SUBJECT_ID  HADM_ID  SEQ_NUM ICD9_CODE comorbidity1 comorbidity2\n",
       "0     2154         175   176764      1.0     42831        51881         5070\n",
       "1     2163         176   135828      1.0      4280        42731         4251\n",
       "2     2172         177   143120      1.0      4280        51881         5119\n",
       "3     2460         199   185360      1.0      4280         4254         4240\n",
       "4     3596         305   122211      1.0     42820        99859         5070\n",
       "5     2056         165   170252      1.0     42823        51881        49121\n",
       "6     2516         205   135671      1.0      4280         4240         5990\n",
       "7     4092         351   174800      1.0      4280        78057         6110\n",
       "8     3775         323   106158      1.0      4280        99672        99762\n",
       "9     3784         323   128132      1.0      4280        78551        51881\n",
       "10    5001         414   153627      1.0      4280         5119        42731\n",
       "11    5078         422   117029      1.0     42833        51881         2762\n",
       "12    5792         491   157083      1.0     42831        99602         9971\n",
       "13    5839         495   186199      1.0      4280         5845         7895\n",
       "14    7546         653   155866      1.0     42831        42731         5990"
      ]
     },
     "execution_count": 5,
     "metadata": {},
     "output_type": "execute_result"
    }
   ],
   "source": [
    "diag_seq2 = diag[diag['SEQ_NUM'] == 2.0][['HADM_ID', 'ICD9_CODE']].rename(columns={'ICD9_CODE': 'comorbidity1'})\n",
    "diagnoses_disease = diagnoses_disease.merge(diag_seq2, on='HADM_ID', how='left')\n",
    "diagnoses_disease['comorbidity1'] = diagnoses_disease['comorbidity1'].fillna(0)\n",
    "\n",
    "diag_seq2 = diag[diag['SEQ_NUM'] == 3.0][['HADM_ID', 'ICD9_CODE']].rename(columns={'ICD9_CODE': 'comorbidity2'})\n",
    "diagnoses_disease = diagnoses_disease.merge(diag_seq2, on='HADM_ID', how='left')\n",
    "diagnoses_disease['comorbidity2'] = diagnoses_disease['comorbidity2'].fillna(0)\n",
    "\n",
    "diagnoses_disease.head(15)"
   ]
  },
  {
   "cell_type": "code",
   "execution_count": 21,
   "id": "1be0b42c",
   "metadata": {},
   "outputs": [
    {
     "name": "stdout",
     "output_type": "stream",
     "text": [
      "Percentage of the frequency explained by the top 5 comorbities: 38.91129032258064 %\n"
     ]
    },
    {
     "data": {
      "image/png": "[encoded data removed]",
      "text/plain": [
       "<Figure size 2000x800 with 1 Axes>"
      ]
     },
     "metadata": {},
     "output_type": "display_data"
    },
    {
     "data": {
      "text/plain": [
       "comorbidity1\n",
       "5849     238\n",
       "51881    153\n",
       "486      108\n",
       "42731     80\n",
       "Name: count, dtype: int64"
      ]
     },
     "execution_count": 21,
     "metadata": {},
     "output_type": "execute_result"
    }
   ],
   "source": [
    "counts = diagnoses_disease['comorbidity1'].value_counts()\n",
    "\n",
    "c1 = sum(counts[0:4])/sum(counts[:]) \n",
    "print(\"Percentage of the frequency explained by the top 5 comorbities: \" + str(c1*100) + \" %\")\n",
    "\n",
    "plt.figure(figsize=(20,8))\n",
    "counts_plot = counts[0:100]\n",
    "counts_plot.plot(kind='bar')\n",
    "plt.title('Comorbidities (comorbidity1)')\n",
    "plt.xlabel('Code ICD9 of the Comorbidity')\n",
    "plt.ylabel('Frequência')\n",
    "plt.xticks(rotation=90)\n",
    "plt.grid(axis='y')\n",
    "plt.tight_layout()\n",
    "plt.show()\n",
    "\n",
    "counts[0:4]"
   ]
  },
  {
   "cell_type": "code",
   "execution_count": 23,
   "id": "0229208c",
   "metadata": {},
   "outputs": [
    {
     "name": "stdout",
     "output_type": "stream",
     "text": [
      "Percentage of the frequency explained by the top 5 comorbities2: 22.513440860215052 %\n"
     ]
    },
    {
     "data": {
      "image/png": "[encoded data removed]",
      "text/plain": [
       "<Figure size 2000x800 with 1 Axes>"
      ]
     },
     "metadata": {},
     "output_type": "display_data"
    },
    {
     "data": {
      "text/plain": [
       "comorbidity2\n",
       "5849     109\n",
       "42731     82\n",
       "4254      80\n",
       "4280      64\n",
       "Name: count, dtype: int64"
      ]
     },
     "execution_count": 23,
     "metadata": {},
     "output_type": "execute_result"
    }
   ],
   "source": [
    "counts = diagnoses_disease['comorbidity2'].value_counts()\n",
    "\n",
    "c1 = sum(counts[0:4])/sum(counts) \n",
    "print(\"Percentage of the frequency explained by the top 5 comorbities2: \" + str(c1*100) + \" %\")\n",
    "\n",
    "plt.figure(figsize=(20,8))\n",
    "counts_plot = counts[0:100]\n",
    "counts_plot.plot(kind='bar')\n",
    "plt.title('Comorbidities (comorbidity2)')\n",
    "plt.xlabel('Code ICD9 of the Comorbidity')\n",
    "plt.ylabel('Frequência')\n",
    "plt.xticks(rotation=90)\n",
    "plt.grid(axis='y')\n",
    "plt.tight_layout()\n",
    "plt.show()\n",
    "\n",
    "counts[0:4]"
   ]
  },
  {
   "cell_type": "code",
   "execution_count": null,
   "id": "791d2cf9",
   "metadata": {},
   "outputs": [
    {
     "name": "stdout",
     "output_type": "stream",
     "text": [
      "Columns of Diagnosis: Index(['ROW_ID', 'SUBJECT_ID', 'HADM_ID', 'SEQ_NUM', 'ICD9_CODE'], dtype='object') \n",
      "\n",
      "Columns of Description of Diseases: Index(['ROW_ID', 'ICD9_CODE', 'SHORT_TITLE', 'LONG_TITLE'], dtype='object') \n",
      "\n",
      "Columns of ICU Stays: Index(['ROW_ID', 'SUBJECT_ID', 'HADM_ID', 'ICUSTAY_ID', 'DBSOURCE',\n",
      "       'FIRST_CAREUNIT', 'LAST_CAREUNIT', 'FIRST_WARDID', 'LAST_WARDID',\n",
      "       'INTIME', 'OUTTIME', 'LOS'],\n",
      "      dtype='object') \n",
      "\n",
      "Columns of Chart Events: Index(['ROW_ID', 'SUBJECT_ID', 'HADM_ID', 'ICUSTAY_ID', 'ITEMID', 'CHARTTIME',\n",
      "       'STORETIME', 'CGID', 'VALUE', 'VALUENUM', 'VALUEUOM', 'WARNING',\n",
      "       'ERROR', 'RESULTSTATUS', 'STOPPED'],\n",
      "      dtype='object') \n",
      "\n",
      "Columns of Patients: Index(['ROW_ID', 'SUBJECT_ID', 'GENDER', 'DOB', 'DOD', 'DOD_HOSP', 'DOD_SSN',\n",
      "       'EXPIRE_FLAG'],\n",
      "      dtype='object') \n",
      "\n",
      "Columns of Admissions: Index(['ROW_ID', 'SUBJECT_ID', 'HADM_ID', 'ADMITTIME', 'DISCHTIME',\n",
      "       'DEATHTIME', 'ADMISSION_TYPE', 'ADMISSION_LOCATION',\n",
      "       'DISCHARGE_LOCATION', 'INSURANCE', 'LANGUAGE', 'RELIGION',\n",
      "       'MARITAL_STATUS', 'ETHNICITY', 'EDREGTIME', 'EDOUTTIME', 'DIAGNOSIS',\n",
      "       'HOSPITAL_EXPIRE_FLAG', 'HAS_CHARTEVENTS_DATA'],\n",
      "      dtype='object') \n",
      "\n",
      "   ICD9_CODE  count               SHORT_TITLE\n",
      "0       4019  20703          Hypertension NOS\n",
      "1       4280  13111                   CHF NOS\n",
      "2      42731  12891       Atrial fibrillation\n",
      "3      41401  12429  Crnry athrscl natve vssl\n",
      "4       5849   9119  Acute kidney failure NOS\n",
      "5      25000   9058  DMII wo cmp nt st uncntr\n",
      "6       2724   8690    Hyperlipidemia NEC/NOS\n",
      "7      51881   7497  Acute respiratry failure\n",
      "8       5990   6555  Urin tract infection NOS\n",
      "9      53081   6326         Esophageal reflux\n",
      "10      2720   5930   Pure hypercholesterolem\n",
      "11      V053   5779  Need prphyl vc vrl hepat\n",
      "12      V290   5519    NB obsrv suspct infect\n",
      "13      2859   5406                Anemia NOS\n",
      "14      2449   4917        Hypothyroidism NOS\n"
     ]
    }
   ],
   "source": [
    "print(f\"Columns of Diagnosis: {diag.columns} \\n\")\n",
    "print(f\"Columns of Description of Diseases: {desc.columns} \\n\")\n",
    "print(f\"Columns of ICU Stays: {icustays.columns} \\n\")\n",
    "print(f\"Columns of Chart Events: {chartevents_filtered.columns} \\n\")\n",
    "print(f\"Columns of Patients: {patients.columns} \\n\")\n",
    "print(f\"Columns of Admissions: {admissions.columns} \\n\")"
   ]
  },
  {
   "cell_type": "markdown",
   "id": "47e6c555",
   "metadata": {},
   "source": [
    "### Data Preparation"
   ]
  },
  {
   "cell_type": "code",
   "execution_count": 25,
   "id": "a19a4146",
   "metadata": {},
   "outputs": [
    {
     "name": "stdout",
     "output_type": "stream",
     "text": [
      "61532\n",
      "61532\n",
      "61532\n",
      "61532\n",
      "1047133\n"
     ]
    },
    {
     "data": {
      "text/plain": [
       "Index(['ICUSTAY_ID', 'SUBJECT_ID', 'HADM_ID', 'LOS', 'ADMITTIME',\n",
       "       'ADMISSION_TYPE', 'ADMISSION_LOCATION', 'INSURANCE', 'RELIGION',\n",
       "       'MARITAL_STATUS', 'ETHNICITY', 'GENDER', 'DOB', 'comorbidity1',\n",
       "       'comorbidity2', 'ITEMID', 'CHARTTIME', 'VALUE', 'VALUENUM', 'VALUEUOM'],\n",
       "      dtype='object')"
      ]
     },
     "execution_count": 25,
     "metadata": {},
     "output_type": "execute_result"
    }
   ],
   "source": [
    "dataset = icustays[['ICUSTAY_ID', 'SUBJECT_ID', 'HADM_ID', 'LOS']]\n",
    "\n",
    "print(len(dataset))\n",
    "\n",
    "dataset = dataset.merge(admissions[['HADM_ID', 'ADMITTIME', 'ADMISSION_TYPE', 'ADMISSION_LOCATION', 'INSURANCE', 'RELIGION', 'MARITAL_STATUS', 'ETHNICITY']], on=['HADM_ID'], how='left')\n",
    "\n",
    "print(len(dataset))\n",
    "\n",
    "dataset = dataset.merge(patients[['SUBJECT_ID', 'GENDER', 'DOB']], on='SUBJECT_ID', how='left')\n",
    "\n",
    "print(len(dataset))\n",
    "\n",
    "dataset = dataset.merge(diagnoses_disease[[\"HADM_ID\", \"comorbidity1\", \"comorbidity2\"]], on=\"HADM_ID\", how=\"left\")\n",
    "\n",
    "print(len(dataset))\n",
    "\n",
    "dataset = dataset.merge(chartevents_filtered[['ICUSTAY_ID', 'ITEMID', 'CHARTTIME', 'VALUE', 'VALUENUM', 'VALUEUOM']], on=['ICUSTAY_ID'], how='left')\n",
    "\n",
    "print(len(dataset))\n",
    "\n",
    "\n",
    "dataset.columns"
   ]
  },
  {
   "cell_type": "code",
   "execution_count": 27,
   "id": "745591e5",
   "metadata": {},
   "outputs": [
    {
     "name": "stdout",
     "output_type": "stream",
     "text": [
      "1047133\n",
      "ICUSTAY_ID             61532\n",
      "SUBJECT_ID             46476\n",
      "HADM_ID                57786\n",
      "LOS                    40175\n",
      "ADMITTIME              57500\n",
      "ADMISSION_TYPE             4\n",
      "ADMISSION_LOCATION         9\n",
      "INSURANCE                  5\n",
      "RELIGION                  20\n",
      "MARITAL_STATUS             7\n",
      "ETHNICITY                 41\n",
      "GENDER                     2\n",
      "DOB                    32523\n",
      "comorbidity1             212\n",
      "comorbidity2             279\n",
      "ITEMID                   760\n",
      "CHARTTIME             123621\n",
      "VALUE                   6690\n",
      "VALUENUM                4955\n",
      "VALUEUOM                  76\n",
      "dtype: int64\n"
     ]
    },
    {
     "data": {
      "text/plain": [
       "ICUSTAY_ID                 0\n",
       "SUBJECT_ID                 0\n",
       "HADM_ID                    0\n",
       "LOS                       10\n",
       "ADMITTIME                  0\n",
       "ADMISSION_TYPE             0\n",
       "ADMISSION_LOCATION         0\n",
       "INSURANCE                  0\n",
       "RELIGION                1642\n",
       "MARITAL_STATUS         16251\n",
       "ETHNICITY                  0\n",
       "GENDER                     0\n",
       "DOB                        0\n",
       "comorbidity1           60527\n",
       "comorbidity2           60527\n",
       "ITEMID                 60665\n",
       "CHARTTIME              60665\n",
       "VALUE                  65807\n",
       "VALUENUM              119780\n",
       "VALUEUOM              157840\n",
       "dtype: int64"
      ]
     },
     "execution_count": 27,
     "metadata": {},
     "output_type": "execute_result"
    }
   ],
   "source": [
    "print(len(dataset))\n",
    "print(dataset.nunique())\n",
    "dataset.isna().sum()"
   ]
  },
  {
   "cell_type": "code",
   "execution_count": 29,
   "metadata": {},
   "outputs": [
    {
     "name": "stdout",
     "output_type": "stream",
     "text": [
      "   SUBJECT_ID  AGE\n",
      "0         268   65\n",
      "1         269   40\n",
      "2         270   80\n",
      "3         271   45\n",
      "4         272   67\n"
     ]
    }
   ],
   "source": [
    "# 1. Converte 'ADMITTIME' e 'DOB' para datetime (com erros forçados como NaT)\n",
    "dataset['ADMITTIME'] = pd.to_datetime(dataset['ADMITTIME'], errors='coerce')\n",
    "dataset['DOB'] = pd.to_datetime(dataset['DOB'], errors='coerce')\n",
    "\n",
    "dataset['AGE'] = None\n",
    "\n",
    "def safe_calculate_age(row):\n",
    "    try:\n",
    "        if pd.isna(row['ADMITTIME']) or pd.isna(row['DOB']):\n",
    "            return None\n",
    "        if row['DOB'].year > 2200:\n",
    "            return 89\n",
    "        age = (row['ADMITTIME'] - row['DOB']).days / 365.242\n",
    "        return 89 if age > 89 else age\n",
    "    except Exception as e:\n",
    "        return None\n",
    "\n",
    "dataset['AGE'] = dataset.apply(safe_calculate_age, axis=1)\n",
    "\n",
    "dataset['AGE'] = dataset['AGE'].fillna(200).astype(int)\n",
    "dataset = dataset[dataset['AGE'] != 200]\n",
    "\n",
    "# 5. (opcional) dropa as colunas DOB e ADMITTIME\n",
    "dataset.drop(columns=['DOB', 'ADMITTIME'], inplace=True)\n",
    "\n",
    "# Verifica\n",
    "print(dataset[['SUBJECT_ID', 'AGE']].head())"
   ]
  },
  {
   "cell_type": "code",
   "execution_count": null,
   "id": "c50242c9",
   "metadata": {},
   "outputs": [
    {
     "name": "stdout",
     "output_type": "stream",
     "text": [
      "972416\n"
     ]
    }
   ],
   "source": [
    "print(len(dataset))"
   ]
  },
  {
   "cell_type": "code",
   "execution_count": 14,
   "id": "3dc26349",
   "metadata": {},
   "outputs": [
    {
     "name": "stdout",
     "output_type": "stream",
     "text": [
      "[   212    456    550    642    644    646    663    674    677    678\n",
      "    680    704    707    723    742   1046   1087   1125   1337   1425\n",
      "   1622   1623    159    161    211    581    618    807    593    599\n",
      "    617    637    660    733    763    446    467    470    522    524\n",
      "    525    527   1044   1045   1089    113    238    283    324    813\n",
      "     27     31     32     54     72     80     82     83     84     85\n",
      "     86     87     88    154    165    166    167    168    169    170\n",
      "    171    172    184    198    210    344    357    363    374    375\n",
      "    425    428    432    454    477    478    479    547    621     69\n",
      "    762    916    917    919    920    924    925    926    927    930\n",
      "    935    230    232    345    356    580    582    640    781    784\n",
      "    787    788    791    811    814    821    827    828    829    833\n",
      "    837    855    861   1127   1162   1523   1525   1529   1532   1534\n",
      "   1535   1536   1542   1484     52    128     77    139   7914    187\n",
      "    190    411    769    770    772    773    817    848   1521   1538\n",
      "     40     64     67     68    136    138    236    284    818   1531\n",
      "    338    362    777    778    779    780   1126    183    661    676\n",
      "    786   1522    776     76    785    783    815    824    825   1286\n",
      "   1530   1533    339   1517    224    225    491    666     45     46\n",
      "     47     48     55     59     62     89    116    626    627    823\n",
      "    242    244    285    616    325    468    471    114    834     70\n",
      "     71    153    792    604     90    504    512    851   1703    208\n",
      "    426    596    655    679    722    137    197    682   1704     39\n",
      "    127    202    548    605    610    622    623    683    720    732\n",
      "   1043   1047   6208     50    131    218    219    221    417    434\n",
      "    444    450    506    535    543    614    615    619    631   6206\n",
      "   6207   1078    513    822    421    422    430    431    588    589\n",
      "    601    602    625    662   1483    141    158    490    838    857\n",
      "    858    859    860    801     26    795    796    797    798    799\n",
      "    800    816   1479   1480    595    651    652   1397    578    684\n",
      "    775    628     66    705    523    789    850 223761 225664 220277\n",
      " 220045 220210 220179 220180 220181 220046 220047 223751 223752 223769\n",
      " 223770 224161 224162 226253 226531 226512 220292 220293 220339 223835\n",
      " 223873 223874 223875 223876 224685 224686 224687 224689 224690 224695\n",
      " 224697 224701 224738 220224 220235 223830 224828 225668 225698 227429\n",
      " 223834 220228 220545 220546 220602 220615 220621 220635 220645 225624\n",
      " 225625 225677 227073 227442 227443 227457    326    579   1481     78\n",
      "    130    648    554    576    207    564    565    567    568    573\n",
      "    574    570    571    466    803   1527   1524   1540    340    346\n",
      "    358    364    376   1567   1650    545    530    569    577    687\n",
      "    443    690    691    692    140    572    575    849   1539    721\n",
      "    459    566    835    557      2      3     61    474    741    143\n",
      "    436    609     63   1090    641   1391   1565   1063 227463 226707\n",
      " 226730 220587 220644 225612 225690 227456 224639 227465 227466 227467\n",
      "    643 225309 225310 225312 224562 224846 224916 224917 224918 224951\n",
      " 224952 224953 220056 220058 224700 225667 227537 227538 227565 227566\n",
      " 220632 227582 220227 220734 227471 224688 226871 226873 227187 226537\n",
      " 225639 225640 225641 225642 225643 227579    515    516   1468    768\n",
      "    793    806    250    142    147    148    149    150    151    152\n",
      "    611    624    665   1528    248    286     29    173    192    217\n",
      "     95    122    123    412    413    517    518    519    521    664\n",
      "     94     97   1570   1758    472    473    410   1390   1401   1402\n",
      "     25    380    381    382   2972   1328    730    423    590 227446\n",
      " 227464 225634 227445 220274 227440 224684 220072 220073 227287 226846\n",
      " 225637 225638 220074 223772 227549 223679 226062 226063 226540 225674\n",
      " 225684 220050 220051 220052 224563 224896 224417 224696 226499 227580\n",
      " 227455 225628 220650 220581 226170 220059 220060 220061 223773 224842\n",
      " 226329 223962 224751 224752 224753 224754 224755 224839 223958 223960\n",
      " 224837 224838 220063 220066 226534 226536 224421 224422 227468 225672\n",
      " 227454 227462 227470 227444 225209 226457 224144 224145 224149 224150\n",
      " 224151 224152 224153 224154 224191 225183 228004 228005 228006 227686\n",
      " 225636 224167 224643 227242 227243 220580 224845 224661 224662 223762\n",
      " 220088 223872 224901 224922 224957 224169 226183 226184 224418 224172\n",
      " 224404 224406 225651 224419 224920 224955 223771 224900 224921 224956\n",
      " 227586 224895 227581 220603 220624 225671 225693 227516 224919 224954\n",
      " 225980 224309 224310 224311 224322 224652 224654 224705 224706 224707\n",
      " 224709 220507 220194 225695 227461 227916 227918 227919 227930 227932\n",
      " 227933 227627 227628 227632 227634 224898 224178 220765 227447 224420\n",
      " 227858 227860 227861 227864 227866 227867 227870 227872 227873 227923\n",
      " 227925 227926 227441 224175 224702 224897 223763 228368 228374 228375\n",
      " 228376 228382 228370 228369 228381 224192 224359 224749 224660 220128\n",
      " 224750 223766 224645 224646 226092 226094 226096 223764 223765 224647\n",
      " 225692 225806 225807 225810 224710 224711 227469 227543 227546 224899\n",
      " 223963 227453 224691 224746 224747 228377 226541 224315 224317 228145\n",
      " 228146 227547 227451 227066 224314 224318 228444 224166 227602 227614\n",
      " 227603 227615]\n"
     ]
    },
    {
     "data": {
      "text/plain": [
       "752"
      ]
     },
     "execution_count": 14,
     "metadata": {},
     "output_type": "execute_result"
    }
   ],
   "source": [
    "print(pd.unique(dataset.ITEMID.dropna().astype(int)))\n",
    "dataset.ITEMID.nunique()"
   ]
  },
  {
   "cell_type": "code",
   "execution_count": 58,
   "id": "761e244b",
   "metadata": {},
   "outputs": [],
   "source": [
    "dataset = dataset.merge(items[[\"LABEL\", \"ITEMID\"]], on=\"ITEMID\", how=\"left\")"
   ]
  },
  {
   "cell_type": "code",
   "execution_count": null,
   "id": "967a6bc0",
   "metadata": {},
   "outputs": [],
   "source": [
    "#dataset[['LABEL', 'ITEMID', 'VALUE', 'SUBJECT_ID']].to_csv('items_processed.csv', index=False)"
   ]
  },
  {
   "cell_type": "code",
   "execution_count": 59,
   "id": "5060bceb",
   "metadata": {},
   "outputs": [
    {
     "name": "stdout",
     "output_type": "stream",
     "text": [
      "6764\n",
      "70\n"
     ]
    },
    {
     "data": {
      "text/plain": [
       "SUBJECT_ID\n",
       "176         [211.0]\n",
       "177         [211.0]\n",
       "199         [211.0]\n",
       "205         [211.0]\n",
       "323         [211.0]\n",
       "            ...    \n",
       "95325    [220045.0]\n",
       "96094    [220045.0]\n",
       "97649    [220045.0]\n",
       "98182    [220045.0]\n",
       "99067    [220045.0]\n",
       "Name: ITEMID, Length: 65, dtype: object"
      ]
     },
     "execution_count": 59,
     "metadata": {},
     "output_type": "execute_result"
    }
   ],
   "source": [
    "dataset['LABEL'] = dataset['LABEL'].str.lower()\n",
    "print(len(dataset[dataset['LABEL'] == \"heart rate\"]))\n",
    "print(dataset[dataset['LABEL'] == \"heart rate\"][\"ICUSTAY_ID\"].nunique())\n",
    "result = dataset[dataset['LABEL'] == \"heart rate\"].groupby('SUBJECT_ID')['ITEMID'].unique()\n",
    "result"
   ]
  },
  {
   "cell_type": "code",
   "execution_count": 63,
   "id": "c108d746",
   "metadata": {},
   "outputs": [
    {
     "name": "stdout",
     "output_type": "stream",
     "text": [
      "          LABEL  count\n",
      "226  hemoglobin     89\n",
      "89          bun     83\n",
      "598         wbc     83\n",
      "133  creatinine     83\n",
      "269         inr     79\n",
      "..          ...    ...\n",
      "3       abi (r)      1\n",
      "2       abi (l)      1\n",
      "0         aado2      1\n",
      "602      zzo2av      1\n",
      "603     zzo2avi      1\n",
      "\n",
      "[604 rows x 2 columns]\n"
     ]
    },
    {
     "data": {
      "text/plain": [
       "8315"
      ]
     },
     "execution_count": 63,
     "metadata": {},
     "output_type": "execute_result"
    }
   ],
   "source": [
    "label_counts = dataset.groupby('LABEL')['ICUSTAY_ID'].nunique().reset_index(name='count')\n",
    "label_counts = label_counts.sort_values(by='count', ascending=False)\n",
    "print(label_counts)\n",
    "sum(label_counts[\"count\"])"
   ]
  },
  {
   "cell_type": "markdown",
   "id": "e71fe38e",
   "metadata": {},
   "source": [
    "Preprocessing Items table. Needed because a lot of the same items are duplicated with different ITEMIDs. Example: heart rate"
   ]
  },
  {
   "cell_type": "code",
   "execution_count": 17,
   "id": "59c96ed3",
   "metadata": {},
   "outputs": [
    {
     "name": "stdout",
     "output_type": "stream",
     "text": [
      "475    Heart Rate\n",
      "Name: LABEL, dtype: object\n",
      "11498    Heart Rate\n",
      "Name: LABEL, dtype: object\n",
      "\n",
      "\n",
      "12487\n"
     ]
    },
    {
     "data": {
      "text/plain": [
       "11846"
      ]
     },
     "execution_count": 17,
     "metadata": {},
     "output_type": "execute_result"
    }
   ],
   "source": [
    "print(items[items['ITEMID'] == 211].LABEL)\n",
    "print(items[items['ITEMID'] == 220045].LABEL)\n",
    "\n",
    "print(\"\\n\")\n",
    "\n",
    "print(len(items))\n",
    "items['LABEL'].nunique()"
   ]
  },
  {
   "cell_type": "code",
   "execution_count": null,
   "id": "1c69023f",
   "metadata": {},
   "outputs": [],
   "source": [
    "items['LABEL'] = items['LABEL'].str.lower()\n",
    "items['LABEL'].nunique()\n",
    "#items.to_csv('items_processed.csv', index=False)"
   ]
  },
  {
   "cell_type": "code",
   "execution_count": null,
   "id": "e9c27db0",
   "metadata": {},
   "outputs": [],
   "source": [
    "vitals_labs = ['heart rate', 'systolic bp', 'diastolic bp', 'respiratory rate', 'SpO2', 'BNP', 'Creatinine', 'Sodium']"
   ]
  },
  {
   "cell_type": "markdown",
   "id": "26d6b68f",
   "metadata": {},
   "source": [
    "### Training and Validation"
   ]
  },
  {
   "cell_type": "markdown",
   "id": "9f915c21",
   "metadata": {},
   "source": [
    "### Analysis of Results and Interpretation"
   ]
  }
 ],
 "metadata": {
  "kernelspec": {
   "display_name": ".venv",
   "language": "python",
   "name": "python3"
  },
  "language_info": {
   "codemirror_mode": {
    "name": "ipython",
    "version": 3
   },
   "file_extension": ".py",
   "mimetype": "text/x-python",
   "name": "python",
   "nbconvert_exporter": "python",
   "pygments_lexer": "ipython3",
   "version": "3.13.3"
  }
 },
 "nbformat": 4,
 "nbformat_minor": 5
}
