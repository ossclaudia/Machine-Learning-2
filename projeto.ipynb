{
 "cells": [
  {
   "cell_type": "markdown",
   "id": "b3e19871",
   "metadata": {},
   "source": [
    "# Machine Learning: Assignment #2\n",
    "\n",
    "Bárbara Nóbrega Galiza – 202408654​\n",
    "\n",
    "Cláudia Oliveira - 202005668​\n",
    "\n",
    "Marta Campos - 202008344"
   ]
  },
  {
   "cell_type": "code",
   "execution_count": 2,
   "id": "5228bb32",
   "metadata": {},
   "outputs": [],
   "source": [
    "import pandas as pd"
   ]
  },
  {
   "cell_type": "markdown",
   "id": "86ff2402",
   "metadata": {},
   "source": [
    "### Data Preprocessing"
   ]
  },
  {
   "cell_type": "markdown",
   "id": "73df1b8f",
   "metadata": {},
   "source": [
    "Datasets"
   ]
  },
  {
   "cell_type": "code",
   "execution_count": 10,
   "id": "38643ab2",
   "metadata": {},
   "outputs": [],
   "source": [
    "# Diagnoses and their descriptions\n",
    "diag = pd.read_csv('tables/DIAGNOSES_ICD.csv')\n",
    "desc = pd.read_csv('tables/D_ICD_DIAGNOSES.csv')\n",
    "\n",
    "# Patient demographic information\n",
    "patients = pd.read_csv('tables/PATIENTS.csv')\n",
    "\n",
    "# Hospital admissions \n",
    "admissions = pd.read_csv('tables/ADMISSIONS.csv')\n",
    "\n",
    "# ICU stays per patient admission\n",
    "icustays = pd.read_csv('tables/ICUSTAYS.csv')\n",
    "\n",
    "# Charted events: vital signs, lab results, nurse observations, etc.\n",
    "#chartevents = pd.read_csv('tables/CHARTEVENTS.csv', low_memory=False)\n",
    "\n",
    "# Inputs: fluids, medications, nutrition via mechanical ventilation\n",
    "#inputevents = pd.read_csv('tables/INPUTEVENTS_MV.csv', low_memory=False)\n",
    "\n",
    "# Dictionary that maps ITEMIDs to their names/descriptions\n",
    "items = pd.read_csv('tables/D_ITEMS.csv')"
   ]
  },
  {
   "cell_type": "markdown",
   "id": "7b18c456",
   "metadata": {},
   "source": [
    "Choosing the Disease"
   ]
  },
  {
   "cell_type": "code",
   "execution_count": null,
   "id": "791d2cf9",
   "metadata": {},
   "outputs": [
    {
     "name": "stdout",
     "output_type": "stream",
     "text": [
      "Columns of Diagnosis: Index(['ROW_ID', 'SUBJECT_ID', 'HADM_ID', 'SEQ_NUM', 'ICD9_CODE'], dtype='object') \n",
      "\n",
      "Columns of Description of Diseases: Index(['ROW_ID', 'ICD9_CODE', 'SHORT_TITLE', 'LONG_TITLE'], dtype='object') \n",
      "\n",
      "   ICD9_CODE  count               SHORT_TITLE\n",
      "0       4019  20703          Hypertension NOS\n",
      "1       4280  13111                   CHF NOS\n",
      "2      42731  12891       Atrial fibrillation\n",
      "3      41401  12429  Crnry athrscl natve vssl\n",
      "4       5849   9119  Acute kidney failure NOS\n",
      "5      25000   9058  DMII wo cmp nt st uncntr\n",
      "6       2724   8690    Hyperlipidemia NEC/NOS\n",
      "7      51881   7497  Acute respiratry failure\n",
      "8       5990   6555  Urin tract infection NOS\n",
      "9      53081   6326         Esophageal reflux\n",
      "10      2720   5930   Pure hypercholesterolem\n",
      "11      V053   5779  Need prphyl vc vrl hepat\n",
      "12      V290   5519    NB obsrv suspct infect\n",
      "13      2859   5406                Anemia NOS\n",
      "14      2449   4917        Hypothyroidism NOS\n"
     ]
    }
   ],
   "source": [
    "print(f\"Columns of Diagnosis: {diag.columns} \\n\")\n",
    "print(f\"Columns of Description of Diseases: {desc.columns} \\n\")\n",
    "\n",
    "top_codes = diag['ICD9_CODE'].value_counts().head(15).reset_index()\n",
    "top_codes.columns = ['ICD9_CODE', 'count']\n",
    "\n",
    "top_diseases = top_codes.merge(desc[['ICD9_CODE', 'SHORT_TITLE']], on='ICD9_CODE', how='left')\n",
    "\n",
    "print(top_diseases)"
   ]
  },
  {
   "cell_type": "markdown",
   "id": "47e6c555",
   "metadata": {},
   "source": [
    "### Data Preparation"
   ]
  },
  {
   "cell_type": "markdown",
   "id": "26d6b68f",
   "metadata": {},
   "source": [
    "### Training and Validation"
   ]
  },
  {
   "cell_type": "markdown",
   "id": "9f915c21",
   "metadata": {},
   "source": [
    "### Analysis of Results and Interpretation"
   ]
  }
 ],
 "metadata": {
  "kernelspec": {
   "display_name": "Python 3",
   "language": "python",
   "name": "python3"
  },
  "language_info": {
   "codemirror_mode": {
    "name": "ipython",
    "version": 3
   },
   "file_extension": ".py",
   "mimetype": "text/x-python",
   "name": "python",
   "nbconvert_exporter": "python",
   "pygments_lexer": "ipython3",
   "version": "3.9.0"
  }
 },
 "nbformat": 4,
 "nbformat_minor": 5
}
